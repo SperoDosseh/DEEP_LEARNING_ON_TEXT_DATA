{
 "cells": [
  {
   "cell_type": "code",
   "execution_count": 1,
   "id": "b125dc3b",
   "metadata": {},
   "outputs": [
    {
     "name": "stdout",
     "output_type": "stream",
     "text": [
      "<class 'list'>\n",
      "['This', 'is', 'my', 'sentence', 'to', 'parse', 'Get', 'all', 'punctuation', 'out', 'of', 'here']\n"
     ]
    }
   ],
   "source": [
    "import string\n",
    "\n",
    "def tokenize(sentence):\n",
    "    # Split the sentence by spaces\n",
    "    words = sentence.split()\n",
    "    # Remove punctuation\n",
    "    table = str.maketrans('', '', string.punctuation)\n",
    "    stripped = [w.translate(table) for w in words]\n",
    "    return stripped\n",
    "\n",
    "sentence = \"This is my sentence, to parse. Get all punctuation out# of here!\"\n",
    "tokens = tokenize(sentence)\n",
    "print(type(tokens))\n",
    "print(tokens)\n"
   ]
  },
  {
   "cell_type": "code",
   "execution_count": 2,
   "id": "fbbe1ede",
   "metadata": {},
   "outputs": [
    {
     "name": "stdout",
     "output_type": "stream",
     "text": [
      "('This', 'is', 'my')\n",
      "('is', 'my', 'sentence')\n",
      "('my', 'sentence', 'to')\n",
      "('sentence', 'to', 'parse')\n",
      "('to', 'parse', 'Get')\n",
      "('parse', 'Get', 'all')\n",
      "('Get', 'all', 'punctuation')\n",
      "('all', 'punctuation', 'out')\n",
      "('punctuation', 'out', 'of')\n",
      "('out', 'of', 'here')\n"
     ]
    }
   ],
   "source": [
    "import string\n",
    "import nltk\n",
    "\n",
    "def ngram(paragraph, n):\n",
    "    # Split the sentence by spaces\n",
    "    words = paragraph.split()\n",
    "    # Remove punctuation\n",
    "    table = str.maketrans('', '', string.punctuation)\n",
    "    stripped = [w.translate(table) for w in words]\n",
    "    bi_grams = nltk.ngrams(stripped, n)\n",
    "    return bi_grams\n",
    "\n",
    "paragraph = \"This is my sentence, to parse. Get all punctuation out# of here!\"\n",
    "bi_grams = ngram(paragraph, 3)\n",
    "for gram in bi_grams:\n",
    "    print(gram)"
   ]
  },
  {
   "cell_type": "code",
   "execution_count": 4,
   "id": "d15c499c",
   "metadata": {},
   "outputs": [
    {
     "name": "stdout",
     "output_type": "stream",
     "text": [
      "Received array\n",
      "[1 3 2 0 3 2 2 1 0 1]\n",
      "One Hot Encoded values\n",
      "[[0. 1. 0. 0.]\n",
      " [0. 0. 0. 1.]\n",
      " [0. 0. 1. 0.]\n",
      " [1. 0. 0. 0.]\n",
      " [0. 0. 0. 1.]\n",
      " [0. 0. 1. 0.]\n",
      " [0. 0. 1. 0.]\n",
      " [0. 1. 0. 0.]\n",
      " [1. 0. 0. 0.]\n",
      " [0. 1. 0. 0.]]\n"
     ]
    }
   ],
   "source": [
    "import string\n",
    "import nltk\n",
    "from numpy import array\n",
    "from numpy import argmax\n",
    "\n",
    "from tensorflow.keras.utils import to_categorical\n",
    "\n",
    "def onehtencode(data):\n",
    "    data = array(data)\n",
    "    print(\"Received array\")\n",
    "    print(data)\n",
    "    # one hot encode\n",
    "    encoded = to_categorical(data)\n",
    "    return encoded\n",
    "\n",
    "data = [1, 3, 2, 0, 3, 2, 2, 1, 0, 1]\n",
    "encodedval = onehtencode(data)\n",
    "print(\"One Hot Encoded values\")\n",
    "print(encodedval)"
   ]
  },
  {
   "cell_type": "code",
   "execution_count": 10,
   "id": "4fdd98aa",
   "metadata": {},
   "outputs": [
    {
     "name": "stdout",
     "output_type": "stream",
     "text": [
      "Found 88582 unique tokens.\n",
      "Shape of data tensor: (25000, 100)\n",
      "Shape of label tensor: (25000,)\n",
      "Epoch 1/10\n",
      "7/7 [==============================] - 1s 65ms/step - loss: 0.6960 - acc: 0.4800 - val_loss: 0.6946 - val_acc: 0.5208\n",
      "Epoch 2/10\n",
      "7/7 [==============================] - 0s 59ms/step - loss: 0.4928 - acc: 0.9550 - val_loss: 0.7044 - val_acc: 0.5125\n",
      "Epoch 3/10\n",
      "7/7 [==============================] - 0s 54ms/step - loss: 0.3040 - acc: 0.9800 - val_loss: 0.7350 - val_acc: 0.5120\n",
      "Epoch 4/10\n",
      "7/7 [==============================] - 0s 60ms/step - loss: 0.1604 - acc: 0.9900 - val_loss: 0.7180 - val_acc: 0.5291\n",
      "Epoch 5/10\n",
      "7/7 [==============================] - 0s 74ms/step - loss: 0.0889 - acc: 1.0000 - val_loss: 0.7410 - val_acc: 0.5234\n",
      "Epoch 6/10\n",
      "7/7 [==============================] - 0s 77ms/step - loss: 0.0559 - acc: 1.0000 - val_loss: 0.7516 - val_acc: 0.5330\n",
      "Epoch 7/10\n",
      "7/7 [==============================] - 0s 79ms/step - loss: 0.0305 - acc: 1.0000 - val_loss: 0.7648 - val_acc: 0.5270\n",
      "Epoch 8/10\n",
      "7/7 [==============================] - 0s 76ms/step - loss: 0.0165 - acc: 1.0000 - val_loss: 0.7667 - val_acc: 0.5298\n",
      "Epoch 9/10\n",
      "7/7 [==============================] - 1s 95ms/step - loss: 0.0093 - acc: 1.0000 - val_loss: 0.7818 - val_acc: 0.5266\n",
      "Epoch 10/10\n",
      "7/7 [==============================] - 1s 98ms/step - loss: 0.0059 - acc: 1.0000 - val_loss: 0.8175 - val_acc: 0.5263\n"
     ]
    },
    {
     "data": {
      "image/png": "[encoded data removed]",
      "text/plain": [
       "<Figure size 432x288 with 1 Axes>"
      ]
     },
     "metadata": {
      "needs_background": "light"
     },
     "output_type": "display_data"
    },
    {
     "data": {
      "image/png": "[encoded data removed]",
      "text/plain": [
       "<Figure size 432x288 with 1 Axes>"
      ]
     },
     "metadata": {
      "needs_background": "light"
     },
     "output_type": "display_data"
    }
   ],
   "source": [
    "from keras.preprocessing.text import Tokenizer\n",
    "from keras.preprocessing.sequence import pad_sequences\n",
    "import numpy as np\n",
    "import matplotlib.pyplot as plt\n",
    "from pathlib import Path\n",
    "from keras.models import Sequential\n",
    "from keras.layers import Embedding, Flatten, Dense\n",
    "import os\n",
    "from contextlib import redirect_stdout\n",
    "import time\n",
    "start_time = time.time()\n",
    "\n",
    "\n",
    "imdb_dir = Path('C:/Users/KDossehAdjanon/Documents/dsc650-master/data/external/imdb/aclImdb/')\n",
    "test_dir = os.path.join(imdb_dir, 'test')\n",
    "train_dir = os.path.join(imdb_dir, 'train')\n",
    "\n",
    "training_samples = 200\n",
    "maxlen = 100\n",
    "max_words = 1000\n",
    "embedding_dim = 100\n",
    "\n",
    "training_samples = 200\n",
    "validation_samples = 10000\n",
    "\n",
    "labels = []\n",
    "texts = []\n",
    "\n",
    "for label_type in ['neg', 'pos']:\n",
    "    dir_name = os.path.join(train_dir, label_type)\n",
    "    for fname in sorted(os.listdir(dir_name)):\n",
    "        if fname[-4:] == '.txt':\n",
    "            f = open(os.path.join(dir_name, fname), encoding=\"utf8\")\n",
    "            texts.append(f.read())\n",
    "            f.close()\n",
    "            if label_type == 'neg':\n",
    "                labels.append(0)\n",
    "            else:\n",
    "                labels.append(1)\n",
    "\n",
    "\n",
    "tokenizer = Tokenizer(num_words=max_words)\n",
    "tokenizer.fit_on_texts(texts)\n",
    "sequences = tokenizer.texts_to_sequences(texts)\n",
    "\n",
    "\n",
    "word_index = tokenizer.word_index\n",
    "print('Found %s unique tokens.' % len(word_index))\n",
    "\n",
    "data = pad_sequences(sequences, maxlen=maxlen)\n",
    "labels = np.asarray(labels)\n",
    "print('Shape of data tensor:', data.shape)\n",
    "print('Shape of label tensor:', labels.shape)\n",
    "\n",
    "indices = np.arange(data.shape[0])\n",
    "np.random.shuffle(indices)\n",
    "data = data[indices]\n",
    "labels = labels[indices]\n",
    "\n",
    "x_train = data[:training_samples]\n",
    "y_train = labels[:training_samples]\n",
    "x_val = data[training_samples: training_samples + validation_samples]\n",
    "y_val = labels[training_samples: training_samples + validation_samples]\n",
    "\n",
    "\n",
    "model = Sequential()\n",
    "model.add(Embedding(max_words, embedding_dim, input_length=maxlen))\n",
    "model.add(Flatten())\n",
    "model.add(Dense(32,activation='relu'))\n",
    "model.add(Dense(1, activation='sigmoid'))\n",
    "\n",
    "model.compile(optimizer='rmsprop', loss='binary_crossentropy', metrics=['acc'])\n",
    "history=model.fit(x_train, y_train, epochs=10, batch_size=32, validation_data=(x_val, y_val))\n",
    "\n",
    "# Place plot here\n",
    "acc = history.history['acc']\n",
    "val_acc = history.history['val_acc']\n",
    "loss = history.history['loss']\n",
    "val_loss = history.history['val_loss']\n",
    "\n",
    "epochs = range(1, len(acc) + 1)\n",
    "\n",
    "plt.plot(epochs, acc, 'bo', label='Training acc')\n",
    "plt.plot(epochs, val_acc, 'b', label='Validation acc')\n",
    "plt.title('Training and validation accuracy')\n",
    "plt.legend()\n",
    "plt.figure()\n",
    "plt.plot(epochs, loss, 'bo', label='Training loss')\n",
    "plt.plot(epochs, val_loss, 'b', label='Validation loss')\n",
    "plt.title('Training and validation loss')\n",
    "plt.legend()\n",
    "plt.show()\n",
    "\n",
    "labels=[]\n",
    "texts=[]\n",
    "\n",
    "for label_type in ['neg', 'pos']:\n",
    "    dir_name = os.path.join(test_dir, label_type)\n",
    "    for fname in sorted(os.listdir(dir_name)):\n",
    "        if fname[-4:] == '.txt':\n",
    "            f = open(os.path.join(dir_name, fname), encoding=\"utf8\")\n",
    "            texts.append(f.read())\n",
    "            f.close()\n",
    "            if label_type == 'neg':\n",
    "                labels.append(0)\n",
    "            else:\n",
    "                labels.append(1)\n",
    "\n",
    "\n",
    "sequence = tokenizer.texts_to_sequences(texts)\n",
    "x_test = pad_sequences(sequences, maxlen=maxlen)\n",
    "y_test = np.asarray(labels)\n",
    "\n"
   ]
  },
  {
   "cell_type": "code",
   "execution_count": 11,
   "id": "3f14bfe8",
   "metadata": {},
   "outputs": [
    {
     "name": "stdout",
     "output_type": "stream",
     "text": [
      "782/782 [==============================] - 1s 1ms/step - loss: 0.8055 - acc: 0.5372\n",
      "\n",
      "[0.8055416941642761, 0.5371599793434143]\n",
      "Complete: --- 37.36147475242615 seconds has passed ---\n"
     ]
    }
   ],
   "source": [
    "eval = model.evaluate(x_test, y_test)\n",
    "print(\"\")\n",
    "print(eval)\n",
    "\n",
    "print(\"Complete: --- %s seconds has passed ---\" % (time.time() - start_time))"
   ]
  },
  {
   "cell_type": "code",
   "execution_count": 13,
   "id": "9ad6e573",
   "metadata": {},
   "outputs": [
    {
     "name": "stdout",
     "output_type": "stream",
     "text": [
      "Loading data... \n",
      "Found 88582 unique tokens.\n",
      "Shape of data tensor: (25000, 500)\n",
      "Shape of label tensor: (25000,)\n",
      "input_train shape: (200, 500)\n",
      "input_test shape: (10000, 500)\n",
      "WARNING:tensorflow:From C:\\Users\\KDossehAdjanon\\Anaconda3\\lib\\site-packages\\keras\\initializers\\initializers_v1.py:277: calling RandomUniform.__init__ (from tensorflow.python.ops.init_ops) with dtype is deprecated and will be removed in a future version.\n",
      "Instructions for updating:\n",
      "Call initializer instance with the dtype argument instead of passing it to the constructor\n",
      "Train on 200 samples, validate on 10000 samples\n",
      "Epoch 1/10\n",
      "192/200 [===========================>..] - ETA: 0s - loss: 0.6934 - acc: 0.4792"
     ]
    },
    {
     "name": "stderr",
     "output_type": "stream",
     "text": [
      "C:\\Users\\KDossehAdjanon\\Anaconda3\\lib\\site-packages\\keras\\engine\\training_v1.py:2057: UserWarning: `Model.state_updates` will be removed in a future version. This property should not be used in TensorFlow 2.0, as `updates` are applied automatically.\n",
      "  updates = self.state_updates\n"
     ]
    },
    {
     "name": "stdout",
     "output_type": "stream",
     "text": [
      "200/200 [==============================] - 6s 32ms/sample - loss: 0.6936 - acc: 0.4700 - val_loss: 0.6928 - val_acc: 0.5138\n",
      "Epoch 2/10\n",
      "200/200 [==============================] - 6s 31ms/sample - loss: 0.6893 - acc: 0.6200 - val_loss: 0.6920 - val_acc: 0.5274\n",
      "Epoch 3/10\n",
      "200/200 [==============================] - 9s 43ms/sample - loss: 0.6818 - acc: 0.6800 - val_loss: 0.6897 - val_acc: 0.5738\n",
      "Epoch 4/10\n",
      "200/200 [==============================] - 10s 48ms/sample - loss: 0.6522 - acc: 0.8450 - val_loss: 0.6794 - val_acc: 0.6094\n",
      "Epoch 5/10\n",
      "200/200 [==============================] - 9s 47ms/sample - loss: 0.5912 - acc: 0.8600 - val_loss: 0.6439 - val_acc: 0.6478\n",
      "Epoch 6/10\n",
      "200/200 [==============================] - 9s 46ms/sample - loss: 0.5049 - acc: 0.8700 - val_loss: 0.6267 - val_acc: 0.6602\n",
      "Epoch 7/10\n",
      "200/200 [==============================] - 9s 47ms/sample - loss: 0.4620 - acc: 0.8900 - val_loss: 0.6958 - val_acc: 0.6020\n",
      "Epoch 8/10\n",
      "200/200 [==============================] - 9s 46ms/sample - loss: 0.3906 - acc: 0.9050 - val_loss: 0.6910 - val_acc: 0.6652\n",
      "Epoch 9/10\n",
      "200/200 [==============================] - 9s 46ms/sample - loss: 0.3388 - acc: 0.8950 - val_loss: 0.6548 - val_acc: 0.6273\n",
      "Epoch 10/10\n",
      "200/200 [==============================] - 9s 46ms/sample - loss: 0.3448 - acc: 0.9450 - val_loss: 0.6286 - val_acc: 0.6592\n"
     ]
    },
    {
     "data": {
      "image/png": "[encoded data removed]",
      "text/plain": [
       "<Figure size 432x288 with 1 Axes>"
      ]
     },
     "metadata": {
      "needs_background": "light"
     },
     "output_type": "display_data"
    },
    {
     "data": {
      "image/png": "[encoded data removed]",
      "text/plain": [
       "<Figure size 432x288 with 1 Axes>"
      ]
     },
     "metadata": {
      "needs_background": "light"
     },
     "output_type": "display_data"
    },
    {
     "name": "stdout",
     "output_type": "stream",
     "text": [
      "\n",
      "[0.6285735706329346, 0.6592]\n",
      "Complete: --- 95.40647602081299 seconds has passed ---\n"
     ]
    }
   ],
   "source": [
    "import tensorflow.compat.v1 as tf\n",
    "tf.disable_v2_behavior()\n",
    "\n",
    "from keras.preprocessing.text import Tokenizer\n",
    "from keras.preprocessing.sequence import pad_sequences\n",
    "import numpy as np\n",
    "import matplotlib.pyplot as plt\n",
    "from pathlib import Path\n",
    "from keras.models import Sequential\n",
    "from keras.layers import Embedding, Flatten, Dense\n",
    "import os\n",
    "from contextlib import redirect_stdout\n",
    "import time\n",
    "start_time = time.time()\n",
    "from keras.layers import LSTM\n",
    "# Needed the following as caused CUDA DNN errors\n",
    "physical_devices = tf.config.list_physical_devices('GPU')\n",
    "\n",
    "from keras.datasets import imdb\n",
    "from keras.preprocessing import sequence\n",
    "\n",
    "\n",
    "max_features = 10000\n",
    "maxlen = 500\n",
    "batch_size = 32\n",
    "max_words = 1000\n",
    "training_samples = 200\n",
    "validation_samples = 10000\n",
    "\n",
    "print('Loading data... ')\n",
    "\n",
    "word_index = tokenizer.word_index\n",
    "print('Found %s unique tokens.' % len(word_index))\n",
    "\n",
    "data = pad_sequences(sequences, maxlen=maxlen)\n",
    "labels = np.asarray(labels)\n",
    "print('Shape of data tensor:', data.shape)\n",
    "print('Shape of label tensor:', labels.shape)\n",
    "\n",
    "indices = np.arange(data.shape[0])\n",
    "np.random.shuffle(indices)\n",
    "data = data[indices]\n",
    "labels = labels[indices]\n",
    "\n",
    "\n",
    "#x_train\n",
    "input_train = data[:training_samples]\n",
    "#y_train\n",
    "y_train = labels[:training_samples]\n",
    "\n",
    "#x_val\n",
    "input_test = data[training_samples: training_samples + validation_samples]\n",
    "#y_val\n",
    "y_test = labels[training_samples: training_samples + validation_samples]\n",
    "\n",
    "print('input_train shape:', input_train.shape)\n",
    "print('input_test shape:', input_test.shape)\n",
    "\n",
    "\n",
    "model = Sequential()\n",
    "model.add(Embedding(max_features, 32))\n",
    "model.add(LSTM(32))\n",
    "model.add(Dense(1, activation='sigmoid'))\n",
    "model.compile(optimizer='rmsprop', loss='binary_crossentropy', metrics=['acc'])\n",
    "\n",
    "history=model.fit(input_train, y_train, epochs=10, batch_size=32, validation_data=(input_test, y_test))\n",
    "\n",
    "# Place plot here\n",
    "acc = history.history['acc']\n",
    "val_acc = history.history['val_acc']\n",
    "loss = history.history['loss']\n",
    "val_loss = history.history['val_loss']\n",
    "\n",
    "epochs = range(1, len(acc) + 1)\n",
    "\n",
    "plt.plot(epochs, acc, 'bo', label='Training acc')\n",
    "plt.plot(epochs, val_acc, 'b', label='Validation acc')\n",
    "plt.title('Training and validation accuracy')\n",
    "plt.legend()\n",
    "plt.figure()\n",
    "plt.plot(epochs, loss, 'bo', label='Training loss')\n",
    "plt.plot(epochs, val_loss, 'b', label='Validation loss')\n",
    "plt.title('Training and validation loss')\n",
    "plt.legend()\n",
    "plt.show()\n",
    "\n",
    "eval = model.evaluate(input_test, y_test)\n",
    "print(\"\")\n",
    "print(eval)\n",
    "\n",
    "\n",
    "print(\"Complete: --- %s seconds has passed ---\" % (time.time() - start_time))"
   ]
  },
  {
   "cell_type": "code",
   "execution_count": 15,
   "id": "557b15b6",
   "metadata": {},
   "outputs": [
    {
     "name": "stdout",
     "output_type": "stream",
     "text": [
      "Loading data ...\n",
      "Downloading data from https://storage.googleapis.com/tensorflow/tf-keras-datasets/imdb.npz\n",
      "17465344/17464789 [==============================] - 1s 0us/step\n",
      "17473536/17464789 [==============================] - 1s 0us/step\n",
      "25000 train sequences\n",
      "25000 test sequences\n",
      "Pad sequences (samples x time)\n",
      "x_train shape: (25000, 500)\n",
      "x_test shape: (25000, 500)\n",
      "Model: \"sequential_4\"\n",
      "_________________________________________________________________\n",
      " Layer (type)                Output Shape              Param #   \n",
      "=================================================================\n",
      " embedding_4 (Embedding)     (None, 500, 128)          1280000   \n",
      "                                                                 \n",
      " conv1d (Conv1D)             (None, 494, 32)           28704     \n",
      "                                                                 \n",
      " max_pooling1d (MaxPooling1D  (None, 98, 32)           0         \n",
      " )                                                               \n",
      "                                                                 \n",
      " conv1d_1 (Conv1D)           (None, 92, 32)            7200      \n",
      "                                                                 \n",
      " global_max_pooling1d (Globa  (None, 32)               0         \n",
      " lMaxPooling1D)                                                  \n",
      "                                                                 \n",
      " dense_7 (Dense)             (None, 1)                 33        \n",
      "                                                                 \n",
      "=================================================================\n",
      "Total params: 1,315,937\n",
      "Trainable params: 1,315,937\n",
      "Non-trainable params: 0\n",
      "_________________________________________________________________\n",
      "Train on 20000 samples, validate on 5000 samples\n"
     ]
    },
    {
     "name": "stderr",
     "output_type": "stream",
     "text": [
      "C:\\Users\\KDossehAdjanon\\Anaconda3\\lib\\site-packages\\keras\\optimizer_v2\\rmsprop.py:130: UserWarning: The `lr` argument is deprecated, use `learning_rate` instead.\n",
      "  super(RMSprop, self).__init__(name, **kwargs)\n"
     ]
    },
    {
     "name": "stdout",
     "output_type": "stream",
     "text": [
      "Epoch 1/10\n",
      "20000/20000 [==============================] - 23s 1ms/sample - loss: 0.7500 - acc: 0.5189 - val_loss: 0.6833 - val_acc: 0.5900\n",
      "Epoch 2/10\n",
      "20000/20000 [==============================] - 25s 1ms/sample - loss: 0.6630 - acc: 0.6771 - val_loss: 0.6584 - val_acc: 0.6824\n",
      "Epoch 3/10\n",
      "20000/20000 [==============================] - 25s 1ms/sample - loss: 0.6101 - acc: 0.7806 - val_loss: 0.5896 - val_acc: 0.7604\n",
      "Epoch 4/10\n",
      "20000/20000 [==============================] - 25s 1ms/sample - loss: 0.5006 - acc: 0.8253 - val_loss: 0.4626 - val_acc: 0.8046\n",
      "Epoch 5/10\n",
      "20000/20000 [==============================] - 25s 1ms/sample - loss: 0.3844 - acc: 0.8589 - val_loss: 0.4128 - val_acc: 0.8430\n",
      "Epoch 6/10\n",
      "20000/20000 [==============================] - 25s 1ms/sample - loss: 0.3260 - acc: 0.8834 - val_loss: 0.4007 - val_acc: 0.8550\n",
      "Epoch 7/10\n",
      "20000/20000 [==============================] - 27s 1ms/sample - loss: 0.2929 - acc: 0.8985 - val_loss: 0.4120 - val_acc: 0.8624\n",
      "Epoch 8/10\n",
      "20000/20000 [==============================] - 26s 1ms/sample - loss: 0.2636 - acc: 0.9099 - val_loss: 0.4356 - val_acc: 0.8664\n",
      "Epoch 9/10\n",
      "20000/20000 [==============================] - 25s 1ms/sample - loss: 0.2394 - acc: 0.9222 - val_loss: 0.4700 - val_acc: 0.8608\n",
      "Epoch 10/10\n",
      "20000/20000 [==============================] - 27s 1ms/sample - loss: 0.2183 - acc: 0.9313 - val_loss: 0.4702 - val_acc: 0.8658\n"
     ]
    },
    {
     "data": {
      "image/png": "[encoded data removed]",
      "text/plain": [
       "<Figure size 432x288 with 1 Axes>"
      ]
     },
     "metadata": {
      "needs_background": "light"
     },
     "output_type": "display_data"
    },
    {
     "data": {
      "image/png": "[encoded data removed]",
      "text/plain": [
       "<Figure size 432x288 with 1 Axes>"
      ]
     },
     "metadata": {
      "needs_background": "light"
     },
     "output_type": "display_data"
    },
    {
     "name": "stdout",
     "output_type": "stream",
     "text": [
      "\n",
      "[0.49300247427463534, 0.86128]\n",
      "Complete: --- 265.8159990310669 seconds has passed ---\n"
     ]
    }
   ],
   "source": [
    "import tensorflow.compat.v1 as tf\n",
    "tf.disable_v2_behavior()\n",
    "import matplotlib.pyplot as plt\n",
    "from keras.models import Sequential\n",
    "from keras import layers\n",
    "from tensorflow.keras.optimizers import RMSprop\n",
    "from keras.datasets import imdb\n",
    "from keras.preprocessing import sequence\n",
    "from contextlib import redirect_stdout\n",
    "from pathlib import Path\n",
    "import time\n",
    "start_time = time.time()\n",
    "\n",
    "\n",
    "physical_devices = tf.config.list_physical_devices('GPU')\n",
    "\n",
    "\n",
    "max_features = 10000\n",
    "max_len = 500\n",
    "\n",
    "print('Loading data ...')\n",
    "\n",
    "(x_train, y_train), (x_test, y_test) = imdb.load_data(num_words=max_features)\n",
    "print(len(x_train), 'train sequences')\n",
    "print(len(x_test), 'test sequences')\n",
    "\n",
    "print('Pad sequences (samples x time)')\n",
    "x_train = sequence.pad_sequences(x_train, maxlen = max_len)\n",
    "x_test = sequence.pad_sequences(x_test, maxlen = max_len)\n",
    "print('x_train shape:', x_train.shape)\n",
    "print('x_test shape:', x_test.shape)\n",
    "\n",
    "model = Sequential()\n",
    "model.add(layers.Embedding(max_features, 128, input_length=max_len))\n",
    "model.add(layers.Conv1D(32, 7, activation='relu'))\n",
    "model.add(layers.MaxPooling1D(5))\n",
    "model.add(layers.Conv1D(32, 7, activation='relu'))\n",
    "model.add(layers.GlobalMaxPooling1D())\n",
    "model.add(layers.Dense(1))\n",
    "model.summary()\n",
    "\n",
    "model.compile(optimizer=RMSprop(lr=1e-4), loss='binary_crossentropy', metrics=['acc'])\n",
    "history = model.fit(x_train, y_train, epochs=10, batch_size=128, validation_split=0.2)\n",
    "\n",
    "# Place plot here\n",
    "acc = history.history['acc']\n",
    "val_acc = history.history['val_acc']\n",
    "loss = history.history['loss']\n",
    "val_loss = history.history['val_loss']\n",
    "\n",
    "epochs = range(1, len(acc) + 1)\n",
    "\n",
    "plt.plot(epochs, acc, 'bo', label='Training acc')\n",
    "plt.plot(epochs, val_acc, 'b', label='Validation acc')\n",
    "plt.title('Training and validation accuracy')\n",
    "plt.legend()\n",
    "plt.figure()\n",
    "plt.plot(epochs, loss, 'bo', label='Training loss')\n",
    "plt.plot(epochs, val_loss, 'b', label='Validation loss')\n",
    "plt.title('Training and validation loss')\n",
    "plt.legend()\n",
    "plt.show()\n",
    "\n",
    "eval = model.evaluate(x_test, y_test)\n",
    "print(\"\")\n",
    "print(eval)\n",
    "\n",
    "print(\"Complete: --- %s seconds has passed ---\" % (time.time() - start_time))\n"
   ]
  }
 ],
 "metadata": {
  "kernelspec": {
   "display_name": "Python 3 (ipykernel)",
   "language": "python",
   "name": "python3"
  },
  "language_info": {
   "codemirror_mode": {
    "name": "ipython",
    "version": 3
   },
   "file_extension": ".py",
   "mimetype": "text/x-python",
   "name": "python",
   "nbconvert_exporter": "python",
   "pygments_lexer": "ipython3",
   "version": "3.9.7"
  }
 },
 "nbformat": 4,
 "nbformat_minor": 5
}
